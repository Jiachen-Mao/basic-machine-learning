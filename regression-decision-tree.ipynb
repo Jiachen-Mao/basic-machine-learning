{
 "cells": [
  {
   "cell_type": "markdown",
   "metadata": {},
   "source": [
    "# Regression decision tree implemented in Python"
   ]
  },
  {
   "cell_type": "code",
   "execution_count": 1,
   "metadata": {},
   "outputs": [],
   "source": [
    "import numpy as np\n",
    "import matplotlib.pyplot as plt\n",
    "from sklearn.model_selection import train_test_split"
   ]
  },
  {
   "cell_type": "markdown",
   "metadata": {},
   "source": [
    "## Decision tree algorithm"
   ]
  },
  {
   "cell_type": "code",
   "execution_count": 2,
   "metadata": {},
   "outputs": [],
   "source": [
    "class DecisionTree():\n",
    "    \n",
    "    def __init__(self):\n",
    "        self.root_dict = None\n",
    "        self.tree_dict = None\n",
    "        \n",
    "        \n",
    "    def split_dataset(self, X, y, feature_idx, threshold):\n",
    "        left_idx = np.where(X[:, feature_idx] < threshold)\n",
    "        right_idx = np.where(X[:, feature_idx] >= threshold)\n",
    "        \n",
    "        left_subset = X[left_idx]\n",
    "        y_left = y[left_idx]\n",
    "        \n",
    "        right_subset = X[right_idx]\n",
    "        y_right = y[right_idx]\n",
    "        \n",
    "        split = {\n",
    "            'left': left_subset,\n",
    "            'y_left': y_left,\n",
    "            'right': right_subset,\n",
    "            'y_right': y_right,\n",
    "        }\n",
    "        \n",
    "        return split\n",
    "    \n",
    "    \n",
    "    def mse(self, y_left, y_right, n_left, n_right):\n",
    "        mse_left, mse_right = 0, 0\n",
    "        \n",
    "        if len(y_left) != 0:\n",
    "            y_hat_left = (1/n_left) * np.sum(y_left)\n",
    "            mse_left = (1/n_left) * np.sum((y_left - y_hat_left)**2)\n",
    "        \n",
    "        if len(y_right) != 0:\n",
    "            y_hat_right = (1/n_right) * np.sum(y_right)\n",
    "            mse_right = (1/n_right) * np.sum((y_right - y_hat_right)**2)\n",
    "            \n",
    "        return mse_left, mse_right\n",
    "    \n",
    "    \n",
    "    def cost(self, split):\n",
    "        y_left = split['y_left']\n",
    "        y_right = split['y_right']\n",
    "        \n",
    "        n_left = len(y_left)\n",
    "        n_right = len(y_right)\n",
    "        n_total = n_left + n_right\n",
    "        \n",
    "        mse_left, mse_right = self.mse(y_left, y_right, n_left, n_right)\n",
    "        cost = (n_left/n_total)*mse_left + (n_right/n_total)*mse_right\n",
    "        \n",
    "        return cost\n",
    "    \n",
    "    \n",
    "    def find_best_split(self, X, y):\n",
    "        n_samples, n_features = X.shape\n",
    "        best_feature_idx, best_threshold, best_cost, best_split = np.inf, np.inf, np.inf, None\n",
    "        \n",
    "        for feature_idx in range(n_features):\n",
    "            for i in range(n_samples):\n",
    "                current = X[i]\n",
    "                threshold = current[feature_idx]\n",
    "                split = self.split_dataset(X, y, feature_idx, threshold)\n",
    "                cost = self.cost(split)\n",
    "                \n",
    "                if cost < best_cost:\n",
    "                    best_feature_idx = feature_idx\n",
    "                    best_threshold = threshold\n",
    "                    bext_cost = cost\n",
    "                    best_split = split\n",
    "                    \n",
    "        best_split_param = {\n",
    "            'feature_idx': best_feature_idx,\n",
    "            'threshold': best_threshold,\n",
    "            'cost': best_cost,\n",
    "            'left': best_split['left'],\n",
    "            'y_left': best_split['y_left'],\n",
    "            'right': best_split['right'],\n",
    "            'y_right': best_split['y_right'],\n",
    "        }\n",
    "        \n",
    "        return best_split_param\n",
    "    \n",
    "    \n",
    "    def build_tree(self, node_dict, depth, max_depth, min_samples):\n",
    "        left_samples = node_dict['left']\n",
    "        right_samples = node_dict['right']\n",
    "        y_left_samples = node_dict['y_left']\n",
    "        y_right_samples = node_dict['y_right']\n",
    "        \n",
    "        if len(y_left_samples) == 0 or len(y_right_samples) == 0:\n",
    "            node_dict['left_child'] = node_dict['right_child'] = self.create_terminal_node(np.append(y_left_samples, y_right_samples))\n",
    "            return None\n",
    "        \n",
    "        if depth >= max_depth:\n",
    "            node_dict['left_child'] = self.create_terminal_node(y_left_samples)\n",
    "            node_dict['right_child'] = self.create_terminal_node(y_right_samples)\n",
    "            return None\n",
    "        \n",
    "        if len(right_samples) < min_samples:\n",
    "            node_dict['right_child'] = self.create_terminal_node(y_right_samples)\n",
    "        else:\n",
    "            node_dict['right_child'] = self.find_best_split(right_samples, y_right_samples)\n",
    "            self.build_tree(node_dict['right_child'], depth + 1, max_depth, min_samples)\n",
    "            \n",
    "        if len(left_samples) < min_samples:\n",
    "            node_dict['left_child'] = self.create_terminal_node(y_left_samples)\n",
    "        else:\n",
    "            node_dict['left_child'] = self.find_best_split(left_samples, y_left_samples)\n",
    "            self.build_tree(node_dict['left_child'], depth + 1, max_depth, min_samples)\n",
    "            \n",
    "        return node_dict\n",
    "    \n",
    "    \n",
    "    def create_terminal_node(self, y):\n",
    "        return np.mean(y)\n",
    "    \n",
    "    \n",
    "    def train(self, X, y, max_depth, min_samples):\n",
    "        self.n_class = len(set(y))\n",
    "        self.root_dict = self.find_best_split(X, y)\n",
    "        self.tree_dict = self.build_tree(self.root_dict, 1, max_depth, min_samples)\n",
    "        \n",
    "        \n",
    "    def predict(self, X, node):\n",
    "        feature_idx = node['feature_idx']\n",
    "        threshold = node['threshold']\n",
    "        \n",
    "        if X[feature_idx] < threshold:\n",
    "            if isinstance(node['left_child'], (float)):\n",
    "                return node['left_child']\n",
    "            else:\n",
    "                prediction = self.predict(X, node['left_child'])\n",
    "        elif X[feature_idx] >= threshold:\n",
    "            if isinstance(node['right_child'], (float)):\n",
    "                return node['right_child']\n",
    "            else:\n",
    "                prediction = self.predict(X, node['right_child'])\n",
    "                \n",
    "        return prediction"
   ]
  },
  {
   "cell_type": "markdown",
   "metadata": {},
   "source": [
    "## Dataset"
   ]
  },
  {
   "cell_type": "code",
   "execution_count": 3,
   "metadata": {},
   "outputs": [
    {
     "data": {
      "image/png": "[encoded data removed]",
      "text/plain": [
       "<Figure size 720x576 with 1 Axes>"
      ]
     },
     "metadata": {
      "needs_background": "light"
     },
     "output_type": "display_data"
    }
   ],
   "source": [
    "X = np.linspace(-3, 3, 400)\n",
    "y = X**2 + np.random.randn(400)\n",
    "\n",
    "plt.figure(figsize = (10, 8))\n",
    "plt.scatter(X, y)\n",
    "plt.title(\"simple quadratic dataset with noise\")\n",
    "plt.xlabel(\"Feature\")\n",
    "plt.ylabel(\"Target\")\n",
    "plt.show()"
   ]
  },
  {
   "cell_type": "code",
   "execution_count": 4,
   "metadata": {},
   "outputs": [
    {
     "name": "stdout",
     "output_type": "stream",
     "text": [
      "Shape X_train: (300, 1)\n",
      "Shape y_train: (300,)\n",
      "Shape X_test: (100, 1)\n",
      "Shape y_test: (100,)\n"
     ]
    }
   ],
   "source": [
    "X = X[:, np.newaxis]\n",
    "\n",
    "X_train, X_test, y_train, y_test = train_test_split(X, y)\n",
    "\n",
    "print(f'Shape X_train: {X_train.shape}')\n",
    "print(f'Shape y_train: {y_train.shape}')\n",
    "print(f'Shape X_test: {X_test.shape}')\n",
    "print(f'Shape y_test: {y_test.shape}')"
   ]
  },
  {
   "cell_type": "markdown",
   "metadata": {},
   "source": [
    "## Training and testing"
   ]
  },
  {
   "cell_type": "code",
   "execution_count": 5,
   "metadata": {},
   "outputs": [],
   "source": [
    "tree = DecisionTree()\n",
    "tree.train(X_train, y_train, max_depth = 3, min_samples = 2)"
   ]
  },
  {
   "cell_type": "code",
   "execution_count": 6,
   "metadata": {},
   "outputs": [],
   "source": [
    "def print_tree(node, depth = 0):\n",
    "    if isinstance(node, (float)):\n",
    "        print(f\"{depth*'   '} predicted_class: {round(node, 3)}\")\n",
    "    else:\n",
    "        print(f\"{depth*'   '} feature {node['feature_idx']} < {round(node['threshold'], 3)}, \"\n",
    "             f\"cost of split: {round(node['cost'], 3)}\")\n",
    "        print_tree(node['left_child'], depth + 1)\n",
    "        print_tree(node['right_child'], depth + 1)"
   ]
  },
  {
   "cell_type": "code",
   "execution_count": 7,
   "metadata": {},
   "outputs": [
    {
     "name": "stdout",
     "output_type": "stream",
     "text": [
      " feature 0 < 0.609, cost of split: inf\n",
      "    feature 0 < -1.541, cost of split: inf\n",
      "       feature 0 < -2.308, cost of split: inf\n",
      "          predicted_class: 6.887\n",
      "          predicted_class: 3.721\n",
      "       feature 0 < -1.541, cost of split: inf\n",
      "          predicted_class: 0.494\n",
      "          predicted_class: 0.494\n",
      "    feature 0 < 0.609, cost of split: inf\n",
      "       predicted_class: 3.778\n",
      "       predicted_class: 3.778\n"
     ]
    }
   ],
   "source": [
    "print_tree(tree.tree_dict)"
   ]
  },
  {
   "cell_type": "code",
   "execution_count": 8,
   "metadata": {},
   "outputs": [
    {
     "name": "stdout",
     "output_type": "stream",
     "text": [
      "MSE on test set: 3.602\n"
     ]
    }
   ],
   "source": [
    "mse = 0\n",
    "predictions = []\n",
    "\n",
    "for i in range(X_test.shape[0]):\n",
    "    result = tree.predict(X_test[i], tree.tree_dict)\n",
    "    mse += (y_test[i] - result)**2\n",
    "    predictions.append(result)\n",
    "    \n",
    "mse = mse / len(y_test)\n",
    "print(f\"MSE on test set: {round(mse, 3)}\")"
   ]
  },
  {
   "cell_type": "code",
   "execution_count": 9,
   "metadata": {},
   "outputs": [
    {
     "data": {
      "image/png": "[encoded data removed]",
      "text/plain": [
       "<Figure size 720x576 with 1 Axes>"
      ]
     },
     "metadata": {
      "needs_background": "light"
     },
     "output_type": "display_data"
    }
   ],
   "source": [
    "predictions = []\n",
    "\n",
    "for i in range(X.shape[0]):\n",
    "    result = tree.predict(X[i], tree.tree_dict)\n",
    "    predictions.append(result)\n",
    "\n",
    "plt.figure(figsize = (10, 8))\n",
    "plt.scatter(X, y, label = \"ground truth\")\n",
    "plt.scatter(X, predictions, label = \"predicted label\")\n",
    "plt.title(\"Decition tree prediction\")\n",
    "plt.xlabel(\"Feature\")\n",
    "plt.ylabel(\"Target\")\n",
    "plt.legend(loc = 'upper right')\n",
    "plt.show()"
   ]
  },
  {
   "cell_type": "code",
   "execution_count": null,
   "metadata": {},
   "outputs": [],
   "source": []
  }
 ],
 "metadata": {
  "kernelspec": {
   "display_name": "Python 3",
   "language": "python",
   "name": "python3"
  },
  "language_info": {
   "codemirror_mode": {
    "name": "ipython",
    "version": 3
   },
   "file_extension": ".py",
   "mimetype": "text/x-python",
   "name": "python",
   "nbconvert_exporter": "python",
   "pygments_lexer": "ipython3",
   "version": "3.7.3"
  }
 },
 "nbformat": 4,
 "nbformat_minor": 2
}

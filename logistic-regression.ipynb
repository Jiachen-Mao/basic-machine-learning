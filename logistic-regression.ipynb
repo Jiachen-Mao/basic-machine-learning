{
 "cells": [
  {
   "cell_type": "markdown",
   "metadata": {},
   "source": [
    "# Logistic regression implemented in Python"
   ]
  },
  {
   "cell_type": "code",
   "execution_count": 1,
   "metadata": {},
   "outputs": [],
   "source": [
    "import numpy as np\n",
    "from sklearn.model_selection import train_test_split\n",
    "import matplotlib.pyplot as plt\n",
    "import pandas as pd"
   ]
  },
  {
   "cell_type": "markdown",
   "metadata": {},
   "source": [
    "## Logistic regression algorithm"
   ]
  },
  {
   "cell_type": "code",
   "execution_count": 2,
   "metadata": {},
   "outputs": [],
   "source": [
    "class LogisticRegression:\n",
    "    \n",
    "    def __init__(self):\n",
    "        pass\n",
    "    \n",
    "    def sigmoid(self, a):\n",
    "        return 1 / (1 + np.exp(-a))\n",
    "    \n",
    "    def train(self, X, y, rate, niter):\n",
    "        \n",
    "        # Step 0: Initialization\n",
    "        n_samples, n_features = X.shape\n",
    "        self.weight = np.random.normal(0, 1, (n_features, 1))\n",
    "        self.bias = np.random.normal(0, 1, 1)\n",
    "        costs = []\n",
    "        \n",
    "        for i in range(niter):\n",
    "            \n",
    "            # Step 1: Compute a linear basis function\n",
    "            f = np.dot(X, self.weight) + self.bias\n",
    "            \n",
    "            # Step 2: Apply the sigmoid function\n",
    "            y_predict = self.sigmoid(f)\n",
    "            \n",
    "            # Step 3: Compute the cross-entropy cost\n",
    "            cost = (-1 / n_samples) * np.sum (y * np.log(y_predict) + (1 - y) * np.log(1 - y_predict))\n",
    "            \n",
    "            # Step 4: Compute the gradient\n",
    "            d_weight = (1 / n_samples) * np.dot(X.T, (y_predict - y))\n",
    "            d_bias = (1 / n_samples) * np.sum(y_predict - y)\n",
    "            \n",
    "            # Step 5: Update the parameters\n",
    "            self.weight -= rate * d_weight\n",
    "            self.bias -= rate * d_bias\n",
    "            \n",
    "            costs.append(cost)\n",
    "            \n",
    "            if i % 100 == 0:\n",
    "                print(f\"Cost after iteration {i}: {cost}\")\n",
    "            \n",
    "        return self.weight, self.bias, costs\n",
    "    \n",
    "    def predict(self, X):\n",
    "        y_predict = self.sigmoid(np.dot(X, self.weight) + self.bias)\n",
    "        y_predict_label = [1 if elem > 0.5 else 0 for elem in y_predict]\n",
    "        \n",
    "        return np.array(y_predict_label)[:, np.newaxis]"
   ]
  },
  {
   "cell_type": "markdown",
   "metadata": {},
   "source": [
    "## Dataset"
   ]
  },
  {
   "cell_type": "code",
   "execution_count": 3,
   "metadata": {},
   "outputs": [],
   "source": [
    "df = pd.read_csv('https://archive.ics.uci.edu/ml/machine-learning-databases/iris/iris.data', header=None)"
   ]
  },
  {
   "cell_type": "code",
   "execution_count": 4,
   "metadata": {},
   "outputs": [
    {
     "data": {
      "text/plain": [
       "array([0, 0, 0, 0, 0, 0, 0, 0, 0, 0, 0, 0, 0, 0, 0, 0, 0, 0, 0, 0, 0, 0,\n",
       "       0, 0, 0, 0, 0, 0, 0, 0, 0, 0, 0, 0, 0, 0, 0, 0, 0, 0, 0, 0, 0, 0,\n",
       "       0, 0, 0, 0, 0, 0, 1, 1, 1, 1, 1, 1, 1, 1, 1, 1, 1, 1, 1, 1, 1, 1,\n",
       "       1, 1, 1, 1, 1, 1, 1, 1, 1, 1, 1, 1, 1, 1, 1, 1, 1, 1, 1, 1, 1, 1,\n",
       "       1, 1, 1, 1, 1, 1, 1, 1, 1, 1, 1, 1])"
      ]
     },
     "execution_count": 4,
     "metadata": {},
     "output_type": "execute_result"
    }
   ],
   "source": [
    "y = df.iloc[0:100, 4].values\n",
    "y = np.where(y == 'Iris-setosa', 0, 1) # Perceptron-style label encoding\n",
    "y"
   ]
  },
  {
   "cell_type": "code",
   "execution_count": 5,
   "metadata": {},
   "outputs": [
    {
     "data": {
      "text/plain": [
       "array([[5.1, 1.4],\n",
       "       [4.9, 1.4],\n",
       "       [4.7, 1.3],\n",
       "       [4.6, 1.5],\n",
       "       [5. , 1.4],\n",
       "       [5.4, 1.7],\n",
       "       [4.6, 1.4],\n",
       "       [5. , 1.5],\n",
       "       [4.4, 1.4],\n",
       "       [4.9, 1.5],\n",
       "       [5.4, 1.5],\n",
       "       [4.8, 1.6],\n",
       "       [4.8, 1.4],\n",
       "       [4.3, 1.1],\n",
       "       [5.8, 1.2],\n",
       "       [5.7, 1.5],\n",
       "       [5.4, 1.3],\n",
       "       [5.1, 1.4],\n",
       "       [5.7, 1.7],\n",
       "       [5.1, 1.5],\n",
       "       [5.4, 1.7],\n",
       "       [5.1, 1.5],\n",
       "       [4.6, 1. ],\n",
       "       [5.1, 1.7],\n",
       "       [4.8, 1.9],\n",
       "       [5. , 1.6],\n",
       "       [5. , 1.6],\n",
       "       [5.2, 1.5],\n",
       "       [5.2, 1.4],\n",
       "       [4.7, 1.6],\n",
       "       [4.8, 1.6],\n",
       "       [5.4, 1.5],\n",
       "       [5.2, 1.5],\n",
       "       [5.5, 1.4],\n",
       "       [4.9, 1.5],\n",
       "       [5. , 1.2],\n",
       "       [5.5, 1.3],\n",
       "       [4.9, 1.5],\n",
       "       [4.4, 1.3],\n",
       "       [5.1, 1.5],\n",
       "       [5. , 1.3],\n",
       "       [4.5, 1.3],\n",
       "       [4.4, 1.3],\n",
       "       [5. , 1.6],\n",
       "       [5.1, 1.9],\n",
       "       [4.8, 1.4],\n",
       "       [5.1, 1.6],\n",
       "       [4.6, 1.4],\n",
       "       [5.3, 1.5],\n",
       "       [5. , 1.4],\n",
       "       [7. , 4.7],\n",
       "       [6.4, 4.5],\n",
       "       [6.9, 4.9],\n",
       "       [5.5, 4. ],\n",
       "       [6.5, 4.6],\n",
       "       [5.7, 4.5],\n",
       "       [6.3, 4.7],\n",
       "       [4.9, 3.3],\n",
       "       [6.6, 4.6],\n",
       "       [5.2, 3.9],\n",
       "       [5. , 3.5],\n",
       "       [5.9, 4.2],\n",
       "       [6. , 4. ],\n",
       "       [6.1, 4.7],\n",
       "       [5.6, 3.6],\n",
       "       [6.7, 4.4],\n",
       "       [5.6, 4.5],\n",
       "       [5.8, 4.1],\n",
       "       [6.2, 4.5],\n",
       "       [5.6, 3.9],\n",
       "       [5.9, 4.8],\n",
       "       [6.1, 4. ],\n",
       "       [6.3, 4.9],\n",
       "       [6.1, 4.7],\n",
       "       [6.4, 4.3],\n",
       "       [6.6, 4.4],\n",
       "       [6.8, 4.8],\n",
       "       [6.7, 5. ],\n",
       "       [6. , 4.5],\n",
       "       [5.7, 3.5],\n",
       "       [5.5, 3.8],\n",
       "       [5.5, 3.7],\n",
       "       [5.8, 3.9],\n",
       "       [6. , 5.1],\n",
       "       [5.4, 4.5],\n",
       "       [6. , 4.5],\n",
       "       [6.7, 4.7],\n",
       "       [6.3, 4.4],\n",
       "       [5.6, 4.1],\n",
       "       [5.5, 4. ],\n",
       "       [5.5, 4.4],\n",
       "       [6.1, 4.6],\n",
       "       [5.8, 4. ],\n",
       "       [5. , 3.3],\n",
       "       [5.6, 4.2],\n",
       "       [5.7, 4.2],\n",
       "       [5.7, 4.2],\n",
       "       [6.2, 4.3],\n",
       "       [5.1, 3. ],\n",
       "       [5.7, 4.1]])"
      ]
     },
     "execution_count": 5,
     "metadata": {},
     "output_type": "execute_result"
    }
   ],
   "source": [
    "X = df.iloc[0:100, [0, 2]].values\n",
    "X"
   ]
  },
  {
   "cell_type": "code",
   "execution_count": 6,
   "metadata": {},
   "outputs": [
    {
     "data": {
      "image/png": "[encoded data removed]",
      "text/plain": [
       "<matplotlib.figure.Figure at 0x102b6cb00>"
      ]
     },
     "metadata": {},
     "output_type": "display_data"
    }
   ],
   "source": [
    "plt.scatter(X[:50, 0], X[:50, 1], color = 'red', marker = 'o', label = 'Setosa')\n",
    "plt.scatter(X[50:100, 0], X[50:100, 1], color = 'blue', marker = 'x', label = 'Versicolor')\n",
    "plt.xlabel('Petal length')\n",
    "plt.ylabel('Sepal length')\n",
    "plt.legend(loc = 'upper left')\n",
    "plt.show()"
   ]
  },
  {
   "cell_type": "code",
   "execution_count": 7,
   "metadata": {},
   "outputs": [
    {
     "name": "stdout",
     "output_type": "stream",
     "text": [
      "Shape of X_train: (75, 2)\n",
      "Shape of X_test: (25, 2)\n",
      "Shape of y_train: (75, 1)\n",
      "Shape of y_test: (25, 1)\n"
     ]
    }
   ],
   "source": [
    "y_true = y[:, np.newaxis]\n",
    "\n",
    "X_train, X_test, y_train, y_test = train_test_split(X, y_true)\n",
    "\n",
    "print(f'Shape of X_train: {X_train.shape}')\n",
    "print(f'Shape of X_test: {X_test.shape}')\n",
    "print(f'Shape of y_train: {y_train.shape}')\n",
    "print(f'Shape of y_test: {y_test.shape}')"
   ]
  },
  {
   "cell_type": "markdown",
   "metadata": {},
   "source": [
    "## Train and test a logistic regressor"
   ]
  },
  {
   "cell_type": "code",
   "execution_count": 8,
   "metadata": {},
   "outputs": [
    {
     "name": "stdout",
     "output_type": "stream",
     "text": [
      "Cost after iteration 0: 6.209603536035214\n",
      "Cost after iteration 100: 0.10324469780057528\n",
      "Cost after iteration 200: 0.07417687530112968\n",
      "Cost after iteration 300: 0.05819454415468275\n",
      "Cost after iteration 400: 0.04808236461325815\n",
      "Cost after iteration 500: 0.041099290355731295\n",
      "Cost after iteration 600: 0.03598049745116449\n",
      "Cost after iteration 700: 0.032062318175831224\n",
      "Cost after iteration 800: 0.028963133994109536\n",
      "Cost after iteration 900: 0.026447914518725663\n"
     ]
    }
   ],
   "source": [
    "p = LogisticRegression()\n",
    "\n",
    "w_trained, b_trained, costs = p.train(X_train, y_train, rate = 0.05, niter = 1000)"
   ]
  },
  {
   "cell_type": "code",
   "execution_count": 9,
   "metadata": {},
   "outputs": [
    {
     "data": {
      "image/png": "[encoded data removed]",
      "text/plain": [
       "<matplotlib.figure.Figure at 0x108f8a940>"
      ]
     },
     "metadata": {},
     "output_type": "display_data"
    }
   ],
   "source": [
    "fig = plt.figure(figsize = (8, 6))\n",
    "plt.plot(np.arange(1000), costs)\n",
    "plt.title(\"Cost over training\")\n",
    "plt.xlabel(\"Number of iterations\")\n",
    "plt.ylabel(\"Cost\")\n",
    "plt.show()"
   ]
  },
  {
   "cell_type": "code",
   "execution_count": 10,
   "metadata": {},
   "outputs": [
    {
     "name": "stdout",
     "output_type": "stream",
     "text": [
      "Training accuracy: 100.0%\n",
      "Testing accuracy: 100.0%\n"
     ]
    }
   ],
   "source": [
    "y_p_train = p.predict(X_train)\n",
    "y_p_test = p.predict(X_test)\n",
    "\n",
    "print(f\"Training accuracy: {100 - np.mean(np.abs(y_p_train - y_train)) * 100}%\")\n",
    "print(f\"Testing accuracy: {100 - np.mean(np.abs(y_p_test - y_test)) * 100}%\")"
   ]
  },
  {
   "cell_type": "markdown",
   "metadata": {},
   "source": [
    "## Plot"
   ]
  },
  {
   "cell_type": "code",
   "execution_count": 11,
   "metadata": {},
   "outputs": [],
   "source": [
    "def plot_hyperplane(X, y, weight, bias):\n",
    "    slope = - weight[0]/weight[1]\n",
    "    intercept = - bias/weight[1]\n",
    "    x_hyperplane = np.linspace(4,7,10)\n",
    "    y_hyperplane = slope * x_hyperplane + intercept\n",
    "    plt.scatter(X[:50, 0], X[:50, 1], color = 'red', marker = 'o', label = 'Setosa')\n",
    "    plt.scatter(X[50:100, 0], X[50:100, 1], color = 'blue', marker = 'x', label = 'Versicolor')\n",
    "    plt.plot(x_hyperplane, y_hyperplane, '-')\n",
    "    plt.title(\"Data and fitted decision hyperplane\")\n",
    "    plt.xlabel(\"Petal length\")\n",
    "    plt.ylabel(\"Sepal length\")\n",
    "    plt.legend(loc = 'upper left')\n",
    "    plt.show()"
   ]
  },
  {
   "cell_type": "code",
   "execution_count": 12,
   "metadata": {},
   "outputs": [
    {
     "data": {
      "image/png": "[encoded data removed]",
      "text/plain": [
       "<matplotlib.figure.Figure at 0x109016978>"
      ]
     },
     "metadata": {},
     "output_type": "display_data"
    }
   ],
   "source": [
    "plot_hyperplane(X, y, w_trained, b_trained)"
   ]
  },
  {
   "cell_type": "code",
   "execution_count": null,
   "metadata": {},
   "outputs": [],
   "source": []
  }
 ],
 "metadata": {
  "kernelspec": {
   "display_name": "Python 3",
   "language": "python",
   "name": "python3"
  },
  "language_info": {
   "codemirror_mode": {
    "name": "ipython",
    "version": 3
   },
   "file_extension": ".py",
   "mimetype": "text/x-python",
   "name": "python",
   "nbconvert_exporter": "python",
   "pygments_lexer": "ipython3",
   "version": "3.7.3"
  }
 },
 "nbformat": 4,
 "nbformat_minor": 2
}
